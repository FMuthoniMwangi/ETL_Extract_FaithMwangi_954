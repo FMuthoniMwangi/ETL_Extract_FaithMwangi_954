{
 "cells": [
  {
   "cell_type": "code",
   "execution_count": null,
   "id": "c49c5db7",
   "metadata": {},
   "outputs": [],
   "source": [
    "# Section 1: Load Setup – Import libraries\\ and define file paths\n",
    "import pandas as pd\n",
    "import sqlite3  \n",
    "import os\n",
    "\n",
    "# File paths\n",
    "full_csv = 'transformed_full.csv'\n",
    "inc_csv = 'transformed_incremental.csv'\n",
    "parquet_full = 'loaded_data/full_data.parquet'\n",
    "parquet_inc = 'loaded_data/incremental_data.parquet'\n",
    "sqlite_full = 'loaded_data/full_data.db'\n",
    "sqlite_inc = 'loaded_data/incremental_data.db'"
   ]
  },
  {
   "cell_type": "code",
   "execution_count": null,
   "id": "b40beb27",
   "metadata": {},
   "outputs": [],
   "source": [
    "# Section 2: Load Full Transformed Data into  SQLite\n",
    "conn_full = sqlite3.connect(sqlite_full)\n",
    "df_full = pd.read_csv(full_csv)\n",
    "df_full.to_sql('full_data', conn_full, if_exists='replace', index=False)\n",
    "conn_full.close()"
   ]
  },
  {
   "cell_type": "code",
   "execution_count": 4,
   "id": "a1a4b835",
   "metadata": {},
   "outputs": [],
   "source": [
    "# Section 3: Load Incremental Transformed Data into SQLite\n",
    "conn_inc = sqlite3.connect(sqlite_inc)\n",
    "df_inc = pd.read_csv(inc_csv)\n",
    "df_inc.to_sql('incremental_data', conn_inc, if_exists='replace', index=False)\n",
    "conn_inc.close()"
   ]
  }
 ],
 "metadata": {
  "kernelspec": {
   "display_name": "Python 3",
   "language": "python",
   "name": "python3"
  },
  "language_info": {
   "codemirror_mode": {
    "name": "ipython",
    "version": 3
   },
   "file_extension": ".py",
   "mimetype": "text/x-python",
   "name": "python",
   "nbconvert_exporter": "python",
   "pygments_lexer": "ipython3",
   "version": "3.11.9"
  }
 },
 "nbformat": 4,
 "nbformat_minor": 5
}

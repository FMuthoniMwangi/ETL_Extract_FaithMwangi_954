{
 "cells": [
  {
   "cell_type": "code",
   "execution_count": 2,
   "id": "c49c5db7",
   "metadata": {},
   "outputs": [],
   "source": [
    "# Load Setup\n",
    "import pandas as pd\n",
    "import sqlite3  \n",
    "import os\n",
    "\n",
    "# File paths\n",
    "full_csv = 'transformed_full.csv'\n",
    "inc_csv = 'transformed_incremental.csv'\n",
    "parquet_full = 'loaded_data/full_data.parquet'\n",
    "parquet_inc = 'loaded_data/incremental_data.parquet'\n",
    "sqlite_full = 'loaded_data/full_data.db'\n",
    "sqlite_inc = 'loaded_data/incremental_data.db'"
   ]
  },
  {
   "cell_type": "code",
   "execution_count": 3,
   "id": "b40beb27",
   "metadata": {},
   "outputs": [],
   "source": [
    "# Load into SQLite tables using sqlite3\n",
    "conn_full = sqlite3.connect(sqlite_full)\n",
    "df_full = pd.read_csv(full_csv)\n",
    "df_full.to_sql('full_data', conn_full, if_exists='replace', index=False)\n",
    "conn_full.close()"
   ]
  }
 ],
 "metadata": {
  "kernelspec": {
   "display_name": "Python 3",
   "language": "python",
   "name": "python3"
  },
  "language_info": {
   "codemirror_mode": {
    "name": "ipython",
    "version": 3
   },
   "file_extension": ".py",
   "mimetype": "text/x-python",
   "name": "python",
   "nbconvert_exporter": "python",
   "pygments_lexer": "ipython3",
   "version": "3.11.9"
  }
 },
 "nbformat": 4,
 "nbformat_minor": 5
}

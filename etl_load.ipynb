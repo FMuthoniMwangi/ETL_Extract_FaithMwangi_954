{
 "cells": [
  {
   "cell_type": "code",
   "execution_count": 1,
   "id": "c49c5db7",
   "metadata": {},
   "outputs": [],
   "source": [
    "# Section 1: Load Setup – Import libraries\\ and define file paths\n",
    "import pandas as pd\n",
    "import sqlite3  \n",
    "import os\n",
    "\n",
    "# File paths\n",
    "full_csv = 'transformed_full.csv'\n",
    "inc_csv = 'transformed_incremental.csv'\n",
    "parquet_full = 'loaded_data/full_data.parquet'\n",
    "parquet_inc = 'loaded_data/incremental_data.parquet'\n",
    "sqlite_full = 'loaded_data/full_data.db'\n",
    "sqlite_inc = 'loaded_data/incremental_data.db'"
   ]
  },
  {
   "cell_type": "code",
   "execution_count": 2,
   "id": "b40beb27",
   "metadata": {},
   "outputs": [],
   "source": [
    "# Section 2: Load Full Transformed Data into  SQLite\n",
    "conn_full = sqlite3.connect(sqlite_full)\n",
    "df_full = pd.read_csv(full_csv)\n",
    "df_full.to_sql('full_data', conn_full, if_exists='replace', index=False)\n",
    "conn_full.close()"
   ]
  },
  {
   "cell_type": "code",
   "execution_count": 3,
   "id": "a1a4b835",
   "metadata": {},
   "outputs": [],
   "source": [
    "# Section 3: Load Incremental Transformed Data into SQLite\n",
    "conn_inc = sqlite3.connect(sqlite_inc)\n",
    "df_inc = pd.read_csv(inc_csv)\n",
    "df_inc.to_sql('incremental_data', conn_inc, if_exists='replace', index=False)\n",
    "conn_inc.close()"
   ]
  },
  {
   "cell_type": "code",
   "execution_count": 4,
   "id": "2c06060c",
   "metadata": {},
   "outputs": [
    {
     "name": "stdout",
     "output_type": "stream",
     "text": [
      "  transaction_id  customer_phone supermarket              agent  \\\n",
      "0       MP582479    254754921293   Quickmart  MPesa Agent 25401   \n",
      "1       MP278093    254762266008      Tuskys  MPesa Agent 25401   \n",
      "2       MP780475    254763869401      Naivas  MPesa Agent 25402   \n",
      "3       MP399427    254734790438   Quickmart  MPesa Agent 25402   \n",
      "4       MP885517    254741923334  Chandarana  MPesa Agent 25401   \n",
      "\n",
      "  transaction_type  amount        date         last_updated  transaction_fee  \\\n",
      "0          Paybill    4744  2025-05-22  2025-05-22 09:46:00           71.160   \n",
      "1          Deposit    4957  2025-04-22  2025-04-22 11:27:00           74.355   \n",
      "2          Deposit    4295  2025-05-01  2025-05-01 19:32:00           64.425   \n",
      "3       Withdrawal    7081  2025-05-16  2025-05-16 20:47:00          106.215   \n",
      "4          Paybill    9916  2025-04-28  2025-04-28 22:48:00          148.740   \n",
      "\n",
      "  amount_category  \n",
      "0          Medium  \n",
      "1          Medium  \n",
      "2          Medium  \n",
      "3           Large  \n",
      "4           Large  \n"
     ]
    }
   ],
   "source": [
    "# Section 4: Verification\n",
    "\n",
    "conn_full = sqlite3.connect(sqlite_full)\n",
    "print(pd.read_sql_query(\"SELECT * FROM full_data LIMIT 5\", conn_full))\n",
    "conn_full.close()"
   ]
  }
 ],
 "metadata": {
  "kernelspec": {
   "display_name": "Python 3",
   "language": "python",
   "name": "python3"
  },
  "language_info": {
   "codemirror_mode": {
    "name": "ipython",
    "version": 3
   },
   "file_extension": ".py",
   "mimetype": "text/x-python",
   "name": "python",
   "nbconvert_exporter": "python",
   "pygments_lexer": "ipython3",
   "version": "3.11.9"
  }
 },
 "nbformat": 4,
 "nbformat_minor": 5
}
